{
  "nbformat": 4,
  "nbformat_minor": 0,
  "metadata": {
    "colab": {
      "name": "test.ipynb",
      "provenance": [],
      "collapsed_sections": [],
      "authorship_tag": "ABX9TyOctkAOUWp2iMZl397EEasu",
      "include_colab_link": true
    },
    "kernelspec": {
      "name": "python3",
      "display_name": "Python 3"
    },
    "language_info": {
      "name": "python"
    }
  },
  "cells": [
    {
      "cell_type": "markdown",
      "metadata": {
        "id": "view-in-github",
        "colab_type": "text"
      },
      "source": [
        "<a href=\"https://colab.research.google.com/github/Orientir/unit-tests-python/blob/main/The%20assert%20statement/exercise_9.ipynb\" target=\"_parent\"><img src=\"https://colab.research.google.com/assets/colab-badge.svg\" alt=\"Open In Colab\"/></a>"
      ]
    },
    {
      "cell_type": "markdown",
      "source": [
        "The `calculate_tax()` function is given (no argument validation).\n",
        "\n",
        "The function is supposed to work as follows:\n",
        "* for age 18 or under, returns the minimun of the following two values:\n",
        "    * amount * tax_rate\n",
        "    * 5000\n",
        "* for age over 18 and age less than or equal to 65 returns:\n",
        "    * amount * tax_rate\n",
        "* for the age over 65, it returns a minimum of the following two values:\n",
        "    * amount * tax_rate\n",
        "    * 8000\n",
        "\n",
        "The are two bugs in the `calculate_tax()` function implementation. Try to correct these bugs so that the function passes the tests implemented in the `test_calculate_tax()` function.\n",
        "\n",
        "The `test_calculate_tax()` function asserts the following test cases: \n",
        "\n",
        "* <code>calculate_tax(60000, 0.15, 10) == 5000</code>\n",
        "* <code>calculate_tax(60000, 0.15, 18) == 5000</code>\n",
        "* <code>calculate_tax(60000, 0.15, 19) == 9000</code>\n",
        "* <code>calculate_tax(60000, 0.15, 65) == 9000</code>\n",
        "* <code>calculate_tax(60000, 0.15, 66) == 8000</code>\n"
      ],
      "metadata": {
        "id": "eTRzaINMbAOF"
      }
    },
    {
      "cell_type": "code",
      "source": [
        "def calculate_tax(amount, tax_rate, age):\n",
        "    \"\"\"The function returns the amount of income tax.\"\"\"\n",
        "\n",
        "    if age < 18:\n",
        "        return int(min(amount * tax_rate, 5000))\n",
        "    elif age < 65:\n",
        "        return int(amount * tax_rate)\n",
        "    else:\n",
        "        return int(min(amount * tax_rate, 8000))\n",
        "\n",
        "def test_calculate_tax():\n",
        "    assert calculate_tax(60000, 0.15, 10) == 5000        \n",
        "    assert calculate_tax(60000, 0.15, 18) == 5000\n",
        "    assert calculate_tax(60000, 0.15, 19) == 9000\n",
        "    assert calculate_tax(60000, 0.15, 65) == 9000\n",
        "    assert calculate_tax(60000, 0.15, 66) == 8000\n",
        "\n",
        "test_calculate_tax()"
      ],
      "metadata": {
        "id": "DGRl2I3gb1CN"
      },
      "execution_count": null,
      "outputs": []
    }
  ]
}