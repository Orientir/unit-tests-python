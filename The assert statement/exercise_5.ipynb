{
  "nbformat": 4,
  "nbformat_minor": 0,
  "metadata": {
    "colab": {
      "name": "test.ipynb",
      "provenance": [],
      "collapsed_sections": [],
      "authorship_tag": "ABX9TyPaXvrOSwj87mNhPCL3YtdT",
      "include_colab_link": true
    },
    "kernelspec": {
      "name": "python3",
      "display_name": "Python 3"
    },
    "language_info": {
      "name": "python"
    }
  },
  "cells": [
    {
      "cell_type": "markdown",
      "metadata": {
        "id": "view-in-github",
        "colab_type": "text"
      },
      "source": [
        "<a href=\"https://colab.research.google.com/github/Orientir/unit-tests-python/blob/main/The%20assert%20statement/exercise_5.ipynb\" target=\"_parent\"><img src=\"https://colab.research.google.com/assets/colab-badge.svg\" alt=\"Open In Colab\"/></a>"
      ]
    },
    {
      "cell_type": "markdown",
      "source": [
        "With following `area()` function is given, which returns the area of a rectangle (no argument validation):\n",
        "1. > <pre><code>def area(width, height):</code></pre>\n",
        "2. > <pre><code>    return width * height</code></pre>\n",
        "\n",
        "Assert the following function calls:\n",
        "* `area(4, 10)`\n",
        "* `area(5, 6)`\n",
        "\n",
        "with the appropriate values:\n",
        "* `40`\n",
        "* `30`\n",
        "\n",
        "\n"
      ],
      "metadata": {
        "id": "eTRzaINMbAOF"
      }
    },
    {
      "cell_type": "code",
      "source": [
        "def area(width, height):\n",
        "    return width * height\n",
        "    \n",
        "# enter your solution here"
      ],
      "metadata": {
        "id": "DGRl2I3gb1CN"
      },
      "execution_count": null,
      "outputs": []
    }
  ]
}