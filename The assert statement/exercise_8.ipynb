{
  "nbformat": 4,
  "nbformat_minor": 0,
  "metadata": {
    "colab": {
      "name": "test.ipynb",
      "provenance": [],
      "collapsed_sections": [],
      "authorship_tag": "ABX9TyOKSSxZ8S8XQ3w+HG7DeAIY",
      "include_colab_link": true
    },
    "kernelspec": {
      "name": "python3",
      "display_name": "Python 3"
    },
    "language_info": {
      "name": "python"
    }
  },
  "cells": [
    {
      "cell_type": "markdown",
      "metadata": {
        "id": "view-in-github",
        "colab_type": "text"
      },
      "source": [
        "<a href=\"https://colab.research.google.com/github/Orientir/unit-tests-python/blob/main/The%20assert%20statement/exercise_8.ipynb\" target=\"_parent\"><img src=\"https://colab.research.google.com/assets/colab-badge.svg\" alt=\"Open In Colab\"/></a>"
      ]
    },
    {
      "cell_type": "markdown",
      "source": [
        "The `calculate_tax` function is given (no argument validation).\n",
        "\n",
        "Implement a function called `test_calculate_tax()` that asserts the following test cases: \n",
        "\n",
        "* <code>calculate_tax(60000, 0.15, 10) == 5000</code>\n",
        "* <code>calculate_tax(60000, 0.15, 18) == 5000</code>\n",
        "* <code>calculate_tax(60000, 0.15, 19) == 9000</code>\n",
        "* <code>calculate_tax(60000, 0.15, 65) == 9000</code>\n",
        "* <code>calculate_tax(60000, 0.15, 66) == 8000</code>\n",
        "\n",
        "Then call `test_calculate_tax()` function.\n"
      ],
      "metadata": {
        "id": "eTRzaINMbAOF"
      }
    },
    {
      "cell_type": "code",
      "source": [
        "def calculate_tax(amount, tax_rate, age):\n",
        "    \"\"\"The function returns the amount of income tax.\"\"\"\n",
        "\n",
        "    if age <= 18:\n",
        "        return int(min(amount * tax_rate, 5000))\n",
        "    elif age <= 65:\n",
        "        return int(amount * tax_rate)\n",
        "    else:\n",
        "        return int(min(amount * tax_rate, 8000))\n",
        "\n",
        "# enter your solution here"
      ],
      "metadata": {
        "id": "DGRl2I3gb1CN"
      },
      "execution_count": null,
      "outputs": []
    }
  ]
}