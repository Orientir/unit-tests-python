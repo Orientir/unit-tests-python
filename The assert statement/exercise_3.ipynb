{
  "nbformat": 4,
  "nbformat_minor": 0,
  "metadata": {
    "colab": {
      "name": "test.ipynb",
      "provenance": [],
      "collapsed_sections": [],
      "authorship_tag": "ABX9TyM9CwSDIulr+1xvLq4DVUq6",
      "include_colab_link": true
    },
    "kernelspec": {
      "name": "python3",
      "display_name": "Python 3"
    },
    "language_info": {
      "name": "python"
    }
  },
  "cells": [
    {
      "cell_type": "markdown",
      "metadata": {
        "id": "view-in-github",
        "colab_type": "text"
      },
      "source": [
        "<a href=\"https://colab.research.google.com/github/Orientir/unit-tests-python/blob/main/The%20assert%20statement/exercise_3.ipynb\" target=\"_parent\"><img src=\"https://colab.research.google.com/assets/colab-badge.svg\" alt=\"Open In Colab\"/></a>"
      ]
    },
    {
      "cell_type": "markdown",
      "source": [
        "The implementation of the `max_min_diff()` function is given:\n",
        "1. > <pre><code>def max_min_diff(numbers):</pre></code>\n",
        "2. > <pre><code>    return max(numbers) - min(numbers)</code></pre>\n",
        "\n",
        "Modify the implementation of the `max_min_diff()` function. By using the `assert` statement inside this function, add the ability to check the length of the *numbers* argument before returning the result. If the length of the *numbers* objects is 0 raise the `AssertionError` without any message. Otherwise, return the correct result.\n",
        "In responce call `max_min_diff()` function passing an empty list.\n",
        "\n"
      ],
      "metadata": {
        "id": "eTRzaINMbAOF"
      }
    },
    {
      "cell_type": "code",
      "source": [
        "def max_min_diff(numbers):\n",
        "    # enter your solution here\n",
        "    return max(numbers) - min(numbers)\n",
        "    \n",
        "# enter your solution here"
      ],
      "metadata": {
        "id": "DGRl2I3gb1CN"
      },
      "execution_count": 4,
      "outputs": []
    }
  ]
}