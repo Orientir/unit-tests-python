{
  "nbformat": 4,
  "nbformat_minor": 0,
  "metadata": {
    "colab": {
      "name": "test.ipynb",
      "provenance": [],
      "collapsed_sections": [],
      "authorship_tag": "ABX9TyOvT5clHxfJ2elEayCRbpyt",
      "include_colab_link": true
    },
    "kernelspec": {
      "name": "python3",
      "display_name": "Python 3"
    },
    "language_info": {
      "name": "python"
    }
  },
  "cells": [
    {
      "cell_type": "markdown",
      "metadata": {
        "id": "view-in-github",
        "colab_type": "text"
      },
      "source": [
        "<a href=\"https://colab.research.google.com/github/Orientir/unit-tests-python/blob/main/Unittest%20module%20-%20basics/exercise_2.ipynb\" target=\"_parent\"><img src=\"https://colab.research.google.com/assets/colab-badge.svg\" alt=\"Open In Colab\"/></a>"
      ]
    },
    {
      "cell_type": "markdown",
      "source": [
        "Using the *unittest* framework, create a *TestJoinMethod* class that inherits from the *unittest.TestCase* class and implements the following three tests:\n",
        "\n",
        "\n",
        "*   `test_join_with_space()`\n",
        "    * test that checks if the code `' '.join(['Python', '3.8'])` returns a string `'Python 3.8'`\n",
        "*   `test_join_with_comma()` \n",
        "    * test that checks if the code `','.join(['open', 'high', 'low', 'close'])` returns a string `'open,high,low,close'`\n",
        "*   `tes_split_with_new_line_char()`\n",
        "    * test that checks if the code `'\\n'.join(['open', 'high', 'low', 'close'])` returns a string `'open\\nhigh\\nlow\\nclose'`\n",
        "\n",
        "You only need to define the class and the appropriate tests. During the solution verification, the tests are run and in case of any errors, the test report will be printed to the console.\n",
        "\n"
      ],
      "metadata": {
        "id": "eTRzaINMbAOF"
      }
    },
    {
      "cell_type": "code",
      "source": [
        "import unittest\n",
        "\n",
        "\n",
        "# enter your solution here"
      ],
      "metadata": {
        "id": "DGRl2I3gb1CN"
      },
      "execution_count": null,
      "outputs": []
    }
  ]
}