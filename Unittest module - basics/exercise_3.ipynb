{
  "nbformat": 4,
  "nbformat_minor": 0,
  "metadata": {
    "colab": {
      "name": "test.ipynb",
      "provenance": [],
      "collapsed_sections": [],
      "authorship_tag": "ABX9TyMW5De4AQjxS89w74HkiVCt",
      "include_colab_link": true
    },
    "kernelspec": {
      "name": "python3",
      "display_name": "Python 3"
    },
    "language_info": {
      "name": "python"
    }
  },
  "cells": [
    {
      "cell_type": "markdown",
      "metadata": {
        "id": "view-in-github",
        "colab_type": "text"
      },
      "source": [
        "<a href=\"https://colab.research.google.com/github/Orientir/unit-tests-python/blob/main/Unittest%20module%20-%20basics/exercise_3.ipynb\" target=\"_parent\"><img src=\"https://colab.research.google.com/assets/colab-badge.svg\" alt=\"Open In Colab\"/></a>"
      ]
    },
    {
      "cell_type": "markdown",
      "source": [
        "Using the *unittest* framework, the *TestJoinMethod* class was created. The class has the following three tests:\n",
        "\n",
        "\n",
        "*   `test_join_with_space()`\n",
        "    * test that checks if the code `' '.join(['Python', '3.8'])` returns a string `'Python 3.8'`\n",
        "*   `test_join_with_comma()` \n",
        "    * test that checks if the code `','.join(['open', 'high', 'low', 'close'])` returns a string `'open,high,low,close'`\n",
        "*   `tes_split_with_new_line_char()`\n",
        "    * test that checks if the code `'\\n'.join(['open', 'high', 'low', 'close'])` returns a string `'open\\nhigh\\nlow\\nclose'`\n",
        "\n",
        "First, run all tests (check the solution). Pay attention to the result. One of the tests was written incorrectly. Try to correct it and run the tests again.\n",
        "\n"
      ],
      "metadata": {
        "id": "eTRzaINMbAOF"
      }
    },
    {
      "cell_type": "code",
      "source": [
        "import unittest\n",
        "\n",
        "\n",
        "class TestJoinMethod(unittest.TestCase):\n",
        "\n",
        "    def test_join_with_space(self):\n",
        "        self.assertEqual(' '.join(['Python', '3.8']), 'Python3.8')\n",
        "\n",
        "    def test_join_with_comma(self):\n",
        "        actual = ','.join(['open', 'high', 'low', 'close'])\n",
        "        expected = 'open,high,low,close'\n",
        "        self.assertEqual(actual, expected)\n",
        "\n",
        "    def test_join_with_new_line_char(self):\n",
        "        actual = '\\n'.join(['open', 'high', 'low', 'close'])\n",
        "        expected = 'open\\nhigh\\nlow\\nclose'\n",
        "        self.assertEqual(actual, expected)\n"
      ],
      "metadata": {
        "id": "DGRl2I3gb1CN"
      },
      "execution_count": null,
      "outputs": []
    }
  ]
}