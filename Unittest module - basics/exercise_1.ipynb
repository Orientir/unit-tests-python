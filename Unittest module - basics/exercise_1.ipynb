{
  "nbformat": 4,
  "nbformat_minor": 0,
  "metadata": {
    "colab": {
      "name": "test.ipynb",
      "provenance": [],
      "collapsed_sections": [],
      "authorship_tag": "ABX9TyOZUxp3THePQ9UfbbvlXjEc",
      "include_colab_link": true
    },
    "kernelspec": {
      "name": "python3",
      "display_name": "Python 3"
    },
    "language_info": {
      "name": "python"
    }
  },
  "cells": [
    {
      "cell_type": "markdown",
      "metadata": {
        "id": "view-in-github",
        "colab_type": "text"
      },
      "source": [
        "<a href=\"https://colab.research.google.com/github/Orientir/unit-tests-python/blob/main/Unittest%20module%20-%20basics/exercise_1.ipynb\" target=\"_parent\"><img src=\"https://colab.research.google.com/assets/colab-badge.svg\" alt=\"Open In Colab\"/></a>"
      ]
    },
    {
      "cell_type": "markdown",
      "source": [
        "Using the *unittest* framework, create a *TestSplitMethod* class that inherits from the *unittest.TestCase* class and implements the following three tests:\n",
        "\n",
        "\n",
        "*   `test_split_by_default()`\n",
        "    * test that checks if the code `'Python Testing'.split()` returns a list `['Python', 'Testing']`\n",
        "*   `test_split_by_comma()` \n",
        "    * test that checks if the code `'open,high,low,close'.split(',')` returns a list `['open', 'high', 'low', 'close']`\n",
        "*   `tes_split_by_hash`\n",
        "    * test that checks if the code `'summer#time#vibes'.split('#')` returns a list `['summer', 'time', 'vibes']`\n",
        "\n",
        "You only need to define the class and the appropriate tests. During the solution verification, the tests are run and in case of any errors, the test report will be printed to the console.\n",
        "\n"
      ],
      "metadata": {
        "id": "eTRzaINMbAOF"
      }
    },
    {
      "cell_type": "code",
      "source": [
        "import unittest\n",
        "\n",
        "\n",
        "# enter your solution here"
      ],
      "metadata": {
        "id": "DGRl2I3gb1CN"
      },
      "execution_count": null,
      "outputs": []
    }
  ]
}